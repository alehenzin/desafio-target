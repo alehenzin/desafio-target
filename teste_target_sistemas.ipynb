{
  "nbformat": 4,
  "nbformat_minor": 0,
  "metadata": {
    "colab": {
      "provenance": []
    },
    "kernelspec": {
      "name": "python3",
      "display_name": "Python 3"
    },
    "language_info": {
      "name": "python"
    }
  },
  "cells": [
    {
      "cell_type": "markdown",
      "source": [
        "#Import"
      ],
      "metadata": {
        "id": "Jm7wtS9Wo_ye"
      }
    },
    {
      "cell_type": "code",
      "source": [
        "import pandas as pd"
      ],
      "metadata": {
        "id": "E2ujnekSqqP4"
      },
      "execution_count": 2,
      "outputs": []
    },
    {
      "cell_type": "markdown",
      "source": [
        "#EXERCICIO 2\n",
        "Dado a sequência de Fibonacci, onde se inicia por 0 e 1 e o próximo valor sempre será a soma dos 2 valores anteriores (exemplo: 0, 1, 1, 2, 3, 5, 8, 13, 21, 34...), escreva um programa na linguagem que desejar onde, informado um número, ele calcule a sequência de Fibonacci e retorne uma mensagem avisando se o número informado pertence ou não a sequência.\n",
        "\n",
        "IMPORTANTE:\n",
        "* Esse número pode ser informado através de qualquer entrada de sua preferência ou pode ser previamente definido no código;"
      ],
      "metadata": {
        "id": "hKW-F6tRF-M4"
      }
    },
    {
      "cell_type": "code",
      "source": [
        "def fibonacci(n):\n",
        "  if n < 0:\n",
        "    print(\"O número deve ser maior ou igual a 0\")\n",
        "  elif n == 0 or n == 1:\n",
        "    return n\n",
        "  else: \n",
        "    return fibonacci(n - 1) + fibonacci(n - 2)\n",
        "\n",
        "def pertence_a_fibonacci(n, i=0):\n",
        "    if fibonacci(i) == n:\n",
        "        return True\n",
        "    elif fibonacci(i) > n:\n",
        "        return False\n",
        "    else:\n",
        "        return pertence_a_fibonacci(n, i+1)\n",
        "\n",
        "n = int(input(\"Digite um número inteiro: \"))\n",
        "fib = fibonacci(n)\n",
        "print(\"\\nO índice\", n, \"da sequência de Fibonacci é:\",fib)\n",
        "\n",
        "if pertence_a_fibonacci(n):\n",
        "    print(\"O número digitado pertence à sequência Fibonacci\")\n",
        "else:\n",
        "    print(\"O número digitado não pertence à sequência Fibonacci\")\n",
        "  "
      ],
      "metadata": {
        "colab": {
          "base_uri": "https://localhost:8080/"
        },
        "id": "9AVoHJGfGBRn",
        "outputId": "dc20f6e4-7085-4427-e39a-0b6d34312416"
      },
      "execution_count": 204,
      "outputs": [
        {
          "output_type": "stream",
          "name": "stdout",
          "text": [
            "Digite um número inteiro: 34\n",
            "\n",
            "O índice 34 da sequência de Fibonacci é: 5702887\n",
            "O número digitado pertence à sequência Fibonacci\n"
          ]
        }
      ]
    },
    {
      "cell_type": "markdown",
      "source": [
        "#EXERCICIO 3\n",
        "Dado um vetor que guarda o valor de faturamento diário de uma distribuidora, faça um programa, na linguagem que desejar, que calcule e retorne:\n",
        "* O menor valor de faturamento ocorrido em um dia do mês;\n",
        "* O maior valor de faturamento ocorrido em um dia do mês;\n",
        "* Número de dias no mês em que o valor de faturamento diário foi superior à média mensal.\n",
        "\n",
        "IMPORTANTE:\n",
        "* Usar o json ou xml disponível como fonte dos dados do faturamento mensal;\n",
        "* Podem existir dias sem faturamento, como nos finais de semana e feriados. Estes dias devem ser ignorados no cálculo da média;\n",
        "\n"
      ],
      "metadata": {
        "id": "RDB_Du7RGFLh"
      }
    },
    {
      "cell_type": "code",
      "source": [
        "df = pd.read_json('dados.json')"
      ],
      "metadata": {
        "id": "glhmTmYhGF6f"
      },
      "execution_count": 89,
      "outputs": []
    },
    {
      "cell_type": "code",
      "source": [
        "dias_uteis = df.loc[(df['valor']>0)]\n",
        "dias_uteis['valor'].describe()"
      ],
      "metadata": {
        "id": "7lhWGCUBtSAC",
        "colab": {
          "base_uri": "https://localhost:8080/"
        },
        "outputId": "3235ddc0-3005-41e7-fd2f-8ba9a7fbf194"
      },
      "execution_count": 194,
      "outputs": [
        {
          "output_type": "execute_result",
          "data": {
            "text/plain": [
              "count       21.000000\n",
              "mean     20865.370167\n",
              "std      15505.575397\n",
              "min        373.783800\n",
              "25%       8414.610000\n",
              "50%      18419.261400\n",
              "75%      26742.661200\n",
              "max      48924.244800\n",
              "Name: valor, dtype: float64"
            ]
          },
          "metadata": {},
          "execution_count": 194
        }
      ]
    },
    {
      "cell_type": "code",
      "source": [
        "media_faturamento = round(dias_uteis['valor'].mean(), 2)\n",
        "\n",
        "print(f\"A média de faturamento mensal foi R${media_faturamento}\")"
      ],
      "metadata": {
        "colab": {
          "base_uri": "https://localhost:8080/"
        },
        "id": "6UDGoGC42yp7",
        "outputId": "89949bef-3868-4900-a35f-0dab9fa69636"
      },
      "execution_count": 196,
      "outputs": [
        {
          "output_type": "stream",
          "name": "stdout",
          "text": [
            "A média de faturamento mensal foi R$20865.37\n"
          ]
        }
      ]
    },
    {
      "cell_type": "code",
      "source": [
        "dia_min = dias_uteis.loc[dias_uteis['valor'].idxmin(), 'dia']\n",
        "menor_faturamento = round(dias_uteis['valor'].min(), 2)\n",
        "\n",
        "print(f\"O menor faturamento foi de R${menor_faturamento} no dia {dia_min}\")"
      ],
      "metadata": {
        "colab": {
          "base_uri": "https://localhost:8080/"
        },
        "id": "vIoqRoeC8EtX",
        "outputId": "fb7f3b82-8579-4d99-fbb8-f5f2dbab1b99"
      },
      "execution_count": 197,
      "outputs": [
        {
          "output_type": "stream",
          "name": "stdout",
          "text": [
            "O menor faturamento foi de R$373.78 no dia 14\n"
          ]
        }
      ]
    },
    {
      "cell_type": "code",
      "source": [
        "dia_max = dias_uteis.loc[dias_uteis['valor'].idxmax(), 'dia']\n",
        "maior_faturamento = round(dias_uteis['valor'].max(), 2)\n",
        "\n",
        "print(f\"O maior faturamento foi de R${maior_faturamento} no dia {dia_max}\")"
      ],
      "metadata": {
        "colab": {
          "base_uri": "https://localhost:8080/"
        },
        "id": "oN9iwfTxs6et",
        "outputId": "92faf99e-3531-4937-e4ec-be3b8077704d"
      },
      "execution_count": 198,
      "outputs": [
        {
          "output_type": "stream",
          "name": "stdout",
          "text": [
            "O maior faturamento foi de R$48924.24 no dia 16\n"
          ]
        }
      ]
    },
    {
      "cell_type": "code",
      "source": [
        "dias_acima_media = dias_uteis.loc[dias_uteis['valor'] > media_faturamento]\n",
        "num_dias_acima_media = len(dias_acima_media)\n",
        "\n",
        "print(f\"O número de dias no mês em que o valor de faturamento diário foi superior à média mensal é {num_dias_acima_media}\")"
      ],
      "metadata": {
        "colab": {
          "base_uri": "https://localhost:8080/"
        },
        "id": "Pwe1nKsoCfE8",
        "outputId": "a33af839-f431-4416-c1aa-fa4e4026db40"
      },
      "execution_count": 199,
      "outputs": [
        {
          "output_type": "stream",
          "name": "stdout",
          "text": [
            "O número de dias no mês em que o valor de faturamento diário foi superior à média mensal é 10\n"
          ]
        }
      ]
    },
    {
      "cell_type": "markdown",
      "source": [
        "#EXERCICIO 4\n",
        "Dado o valor de faturamento mensal de uma distribuidora, detalhado por estado:\n",
        "   \n",
        "* SP – R$67.836,43\n",
        "\n",
        "* RJ – R$36.678,66\n",
        "\n",
        "* MG – R$29.229,88\n",
        "\n",
        "* ES – R$27.165,48\n",
        "\n",
        "* Outros – R$19.849,53\n",
        "\n",
        "\n",
        "\n",
        "\n",
        "Escreva um programa na linguagem que desejar onde calcule o percentual de representação que cada estado teve dentro do valor total mensal da distribuidora."
      ],
      "metadata": {
        "id": "uUz3C84cGKr9"
      }
    },
    {
      "cell_type": "code",
      "source": [
        "dict_faturamento = {'SP' : 67836.43,\n",
        "                    'RJ' : 36678.66,\n",
        "                    'MG' : 29229.88,\n",
        "                    'ES' : 27165.48,\n",
        "                    'Outros' : 19849.53}\n",
        "\n",
        "total = sum(dict_faturamento.values())\n",
        "\n",
        "\n",
        "for estado, valor in dict_faturamento.items():\n",
        "  print(estado, \"=\", \"%.2f\" %((valor / total) * 100),\"%\") \n"
      ],
      "metadata": {
        "id": "EGuUsaUjGLUi",
        "colab": {
          "base_uri": "https://localhost:8080/"
        },
        "outputId": "a0f5d8cf-5797-461f-8910-d0d2afe9bb83"
      },
      "execution_count": 183,
      "outputs": [
        {
          "output_type": "stream",
          "name": "stdout",
          "text": [
            "SP = 37.53 %\n",
            "RJ = 20.29 %\n",
            "MG = 16.17 %\n",
            "ES = 15.03 %\n",
            "Outros = 10.98 %\n"
          ]
        }
      ]
    },
    {
      "cell_type": "markdown",
      "source": [
        "#EXERCICIO 5\n",
        "Escreva um programa que inverta os caracteres de um string.\n",
        "\n",
        "IMPORTANTE:\n",
        "* Essa string pode ser informada através de qualquer entrada de sua preferência ou pode ser previamente definida no código; \n",
        "* Evite usar funções prontas, como, por exemplo, reverse;\n",
        "\n"
      ],
      "metadata": {
        "id": "NYHuKPJmGO3Q"
      }
    },
    {
      "cell_type": "code",
      "source": [
        "def inverter_string(texto):\n",
        "  return texto[::-1]\n",
        "\n",
        "texto = input(\"Digite um texto: \")\n",
        "\n",
        "inverter_string(texto)\n"
      ],
      "metadata": {
        "id": "ogBvfS6JGP_h",
        "colab": {
          "base_uri": "https://localhost:8080/",
          "height": 53
        },
        "outputId": "043c3bec-7dcd-4e5d-e786-aae582727404"
      },
      "execution_count": 190,
      "outputs": [
        {
          "name": "stdout",
          "output_type": "stream",
          "text": [
            "Digite um texto: Esse é um texto escrito ao contrário\n"
          ]
        },
        {
          "output_type": "execute_result",
          "data": {
            "text/plain": [
              "'oirártnoc oa otircse otxet mu é essE'"
            ],
            "application/vnd.google.colaboratory.intrinsic+json": {
              "type": "string"
            }
          },
          "metadata": {},
          "execution_count": 190
        }
      ]
    }
  ]
}